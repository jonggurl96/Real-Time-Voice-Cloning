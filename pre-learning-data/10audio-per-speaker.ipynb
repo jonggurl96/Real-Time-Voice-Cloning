{
 "cells": [
  {
   "cell_type": "markdown",
   "id": "upper-composite",
   "metadata": {},
   "source": [
    "# lab server pre-learning for synthesize"
   ]
  },
  {
   "cell_type": "markdown",
   "id": "further-watch",
   "metadata": {},
   "source": [
    "## 10 audios/speaker"
   ]
  },
  {
   "cell_type": "markdown",
   "id": "distributed-aaron",
   "metadata": {},
   "source": [
    "### import libs"
   ]
  },
  {
   "cell_type": "code",
   "execution_count": 1,
   "id": "amazing-search",
   "metadata": {},
   "outputs": [],
   "source": [
    "from tqdm import tqdm\n",
    "from pathlib import Path"
   ]
  },
  {
   "cell_type": "markdown",
   "id": "downtown-split",
   "metadata": {},
   "source": [
    "### Main Directory"
   ]
  },
  {
   "cell_type": "code",
   "execution_count": 4,
   "id": "municipal-softball",
   "metadata": {},
   "outputs": [],
   "source": [
    "datasets_root = Path(\"datasets_root/Training\")"
   ]
  },
  {
   "cell_type": "markdown",
   "id": "seasonal-mortality",
   "metadata": {},
   "source": [
    "### Speakers"
   ]
  },
  {
   "cell_type": "code",
   "execution_count": 5,
   "id": "successful-romance",
   "metadata": {},
   "outputs": [],
   "source": [
    "speakers = [m for m in datasets_root.glob(\"*\") if m.is_dir()]"
   ]
  },
  {
   "cell_type": "markdown",
   "id": "alternative-speed",
   "metadata": {},
   "source": [
    "### Delete Everything else 10 Audios per Speakers"
   ]
  },
  {
   "cell_type": "code",
   "execution_count": 6,
   "id": "medieval-stock",
   "metadata": {},
   "outputs": [
    {
     "name": "stderr",
     "output_type": "stream",
     "text": [
      "0it [00:00, ?it/s]\n"
     ]
    }
   ],
   "source": [
    "for speaker in tqdm(speakers):\n",
    "    wavs = sorted(speaker.glob(\"*.wav\"))\n",
    "    if len(wavs) < 10:\n",
    "        start_idx = 0\n",
    "        is_empty_dir = True\n",
    "    else:\n",
    "        start_idx = 10\n",
    "        is_empty_dir = False\n",
    "    for wav in wavs[start_idx:]:\n",
    "        wav.unlink(True)\n",
    "    if is_empty_dir:\n",
    "        speaker.rmdir()"
   ]
  },
  {
   "cell_type": "code",
   "execution_count": null,
   "id": "bottom-equipment",
   "metadata": {},
   "outputs": [],
   "source": []
  }
 ],
 "metadata": {
  "kernelspec": {
   "display_name": "Python 3",
   "language": "python",
   "name": "python3"
  },
  "language_info": {
   "codemirror_mode": {
    "name": "ipython",
    "version": 3
   },
   "file_extension": ".py",
   "mimetype": "text/x-python",
   "name": "python",
   "nbconvert_exporter": "python",
   "pygments_lexer": "ipython3",
   "version": "3.8.8"
  }
 },
 "nbformat": 4,
 "nbformat_minor": 5
}
